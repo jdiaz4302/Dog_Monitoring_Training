{
 "cells": [
  {
   "cell_type": "code",
   "execution_count": 7,
   "metadata": {},
   "outputs": [],
   "source": [
    "import time\n",
    "from scipy.io import wavfile\n",
    "import numpy as np\n",
    "from pygame import mixer"
   ]
  },
  {
   "cell_type": "code",
   "execution_count": 8,
   "metadata": {},
   "outputs": [
    {
     "data": {
      "text/plain": [
       "18000"
      ]
     },
     "execution_count": 8,
     "metadata": {},
     "output_type": "execute_result"
    }
   ],
   "source": [
    "seconds_per_minute = 60\n",
    "minutes_per_hour = 60\n",
    "max_hours = 5\n",
    "\n",
    "max_seconds = seconds_per_minute * minutes_per_hour * max_hours\n",
    "max_seconds"
   ]
  },
  {
   "cell_type": "code",
   "execution_count": 14,
   "metadata": {
    "scrolled": false
   },
   "outputs": [
    {
     "name": "stdout",
     "output_type": "stream",
     "text": [
      "Now listening\n",
      "Recording WAVE 'recorded_noise.wav' : Unsigned 8 bit, Rate 8000 Hz, Mono\n",
      "Now responding\n",
      "Now listening\n",
      "Recording WAVE 'recorded_noise.wav' : Unsigned 8 bit, Rate 8000 Hz, Mono\n",
      "Now responding\n",
      "Now listening\n",
      "Recording WAVE 'recorded_noise.wav' : Unsigned 8 bit, Rate 8000 Hz, Mono\n",
      "Now responding\n",
      "Now listening\n",
      "Recording WAVE 'recorded_noise.wav' : Unsigned 8 bit, Rate 8000 Hz, Mono\n",
      "Now responding\n",
      "Now listening\n",
      "Recording WAVE 'recorded_noise.wav' : Unsigned 8 bit, Rate 8000 Hz, Mono\n",
      "^C\n",
      "Aborted by signal Interrupt...\n"
     ]
    },
    {
     "ename": "KeyboardInterrupt",
     "evalue": "",
     "output_type": "error",
     "traceback": [
      "\u001b[0;31m---------------------------------------------------------------------------\u001b[0m",
      "\u001b[0;31mKeyboardInterrupt\u001b[0m                         Traceback (most recent call last)",
      "\u001b[0;32m<ipython-input-14-8696ec114382>\u001b[0m in \u001b[0;36m<module>\u001b[0;34m()\u001b[0m\n\u001b[1;32m      4\u001b[0m \u001b[0;34m\u001b[0m\u001b[0m\n\u001b[1;32m      5\u001b[0m     \u001b[0;31m# Getting current time, focusing on 10-second intervals\u001b[0m\u001b[0;34m\u001b[0m\u001b[0;34m\u001b[0m\u001b[0m\n\u001b[0;32m----> 6\u001b[0;31m     \u001b[0mcurrent_time\u001b[0m \u001b[0;34m=\u001b[0m \u001b[0mstr\u001b[0m\u001b[0;34m(\u001b[0m\u001b[0mtime\u001b[0m\u001b[0;34m.\u001b[0m\u001b[0mtime\u001b[0m\u001b[0;34m(\u001b[0m\u001b[0;34m)\u001b[0m\u001b[0;34m)\u001b[0m\u001b[0;34m\u001b[0m\u001b[0m\n\u001b[0m\u001b[1;32m      7\u001b[0m     \u001b[0mcurrent_seconds\u001b[0m\u001b[0;34m,\u001b[0m \u001b[0mcurrent_subseconds\u001b[0m \u001b[0;34m=\u001b[0m \u001b[0mcurrent_time\u001b[0m\u001b[0;34m.\u001b[0m\u001b[0msplit\u001b[0m\u001b[0;34m(\u001b[0m\u001b[0;34m'.'\u001b[0m\u001b[0;34m)\u001b[0m\u001b[0;34m\u001b[0m\u001b[0m\n\u001b[1;32m      8\u001b[0m     \u001b[0mcurrent_seconds_of_interest\u001b[0m \u001b[0;34m=\u001b[0m \u001b[0mint\u001b[0m\u001b[0;34m(\u001b[0m\u001b[0mcurrent_seconds\u001b[0m\u001b[0;34m[\u001b[0m\u001b[0;34m-\u001b[0m\u001b[0;36m2\u001b[0m\u001b[0;34m:\u001b[0m\u001b[0;34m]\u001b[0m\u001b[0;34m)\u001b[0m\u001b[0;34m\u001b[0m\u001b[0m\n",
      "\u001b[0;31mKeyboardInterrupt\u001b[0m: "
     ]
    }
   ],
   "source": [
    "beginning_time = time.time()\n",
    "\n",
    "while time.time() <= (beginning_time + max_seconds):\n",
    "    \n",
    "    # Getting current time, focusing on 10-second intervals\n",
    "    current_time = str(time.time())\n",
    "    current_seconds, current_subseconds = current_time.split('.')\n",
    "    current_seconds_of_interest = int(current_seconds[-2:])\n",
    "    \n",
    "    # Acknowledge the previous state so we do continuously initiate phase changes\n",
    "    try:\n",
    "        last_phase = current_phase\n",
    "    except NameError as e:\n",
    "        last_phase = 'listen'\n",
    "    \n",
    "    # If we're in an even-first-digit 10-second interval, then we're listening\n",
    "    if (current_seconds_of_interest % 20) < 10:\n",
    "        current_phase = 'listen'\n",
    "    # Otherwise we're responding\n",
    "    else:\n",
    "        current_phase = 'respond'\n",
    "    \n",
    "    if current_phase == last_phase:\n",
    "        continue\n",
    "    else:\n",
    "        if current_phase == 'listen':\n",
    "            print('Now listening')\n",
    "            !arecord recorded_noise.wav -d 10\n",
    "        else:\n",
    "            print('Now responding')\n",
    "            sample_rate, samples = wavfile.read('recorded_noise.wav')\n",
    "            num_loud_instances = np.sum(samples >= 150)\n",
    "            if num_loud_instances > 0:\n",
    "                mixer.init()\n",
    "                mixer.music.load('command.wav')\n",
    "                mixer.music.play()"
   ]
  },
  {
   "cell_type": "code",
   "execution_count": null,
   "metadata": {},
   "outputs": [],
   "source": []
  }
 ],
 "metadata": {
  "kernelspec": {
   "display_name": "Python 3",
   "language": "python",
   "name": "python3"
  },
  "language_info": {
   "codemirror_mode": {
    "name": "ipython",
    "version": 3
   },
   "file_extension": ".py",
   "mimetype": "text/x-python",
   "name": "python",
   "nbconvert_exporter": "python",
   "pygments_lexer": "ipython3",
   "version": "3.6.6"
  }
 },
 "nbformat": 4,
 "nbformat_minor": 2
}
